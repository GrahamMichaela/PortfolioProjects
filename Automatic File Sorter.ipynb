{
 "cells": [
  {
   "cell_type": "code",
   "execution_count": 50,
   "id": "8a79bb58-c7ff-4e7a-a03c-c480e019f028",
   "metadata": {},
   "outputs": [],
   "source": [
    "import os, shutil "
   ]
  },
  {
   "cell_type": "code",
   "execution_count": 51,
   "id": "a7452c4a-f36d-4554-8fb7-ef4c71cd940e",
   "metadata": {},
   "outputs": [],
   "source": [
    "path = r\"C:/Users/micja/OneDrive/Documents/Tax/\""
   ]
  },
  {
   "cell_type": "code",
   "execution_count": 52,
   "id": "8b660e47-c86c-49db-8b78-72aa01089720",
   "metadata": {},
   "outputs": [],
   "source": [
    "file_name = os.listdir(path)"
   ]
  },
  {
   "cell_type": "code",
   "execution_count": 56,
   "id": "c1632b4d-594e-4877-8d2b-45559c043b9f",
   "metadata": {},
   "outputs": [],
   "source": [
    "folder_names = ['gt1 files', 'image files', 'text files']\n",
    "\n",
    "for loop in range(0,3):\n",
    "    if not os.path.exists(path + folder_names[loop]):\n",
    "        #print(path + folder_names[loop])\n",
    "        os.makedirs(path + folder_names[loop])\n",
    "\n",
    "for file in file_name:\n",
    "    if\".gt1\" in file and not os.path.exists(path + \"gt1 files/\" + file):\n",
    "        shutil.move(path + file, path + \"gt1 files/\" + file)\n",
    "for file in file_name:\n",
    "    if\".png\" in file and not os.path.exists(path + \"image files/\" + file):\n",
    "        shutil.move(path + file, path + \"image files/\" + file)\n",
    "for file in file_name:\n",
    "    if\".txt\" in file and not os.path.exists(path + \"text files/\" + file):\n",
    "        shutil.move(path + file, path + \"text files/\" + file)"
   ]
  },
  {
   "cell_type": "code",
   "execution_count": 55,
   "id": "d3adc799-32d5-44e5-8f38-ff441a9d9fe6",
   "metadata": {},
   "outputs": [],
   "source": []
  },
  {
   "cell_type": "code",
   "execution_count": null,
   "id": "d5e78baa-e2bc-478d-bb86-7023863013f9",
   "metadata": {},
   "outputs": [],
   "source": []
  },
  {
   "cell_type": "code",
   "execution_count": null,
   "id": "4ad65fdf-814d-4b17-a4e2-0e305b022868",
   "metadata": {},
   "outputs": [],
   "source": []
  },
  {
   "cell_type": "code",
   "execution_count": null,
   "id": "51573971-6834-4158-bb99-13ec4051dadb",
   "metadata": {},
   "outputs": [],
   "source": []
  },
  {
   "cell_type": "code",
   "execution_count": null,
   "id": "c6777536-a756-4ebb-af2b-0134fb351aba",
   "metadata": {},
   "outputs": [],
   "source": []
  },
  {
   "cell_type": "code",
   "execution_count": null,
   "id": "adcc5446-f7fe-4a03-b971-2840188ffe06",
   "metadata": {},
   "outputs": [],
   "source": []
  },
  {
   "cell_type": "code",
   "execution_count": null,
   "id": "e8012da7-2d13-4e74-9de6-432630303da4",
   "metadata": {},
   "outputs": [],
   "source": []
  },
  {
   "cell_type": "code",
   "execution_count": null,
   "id": "f865aab3-39a7-4175-ad13-cf02649650c4",
   "metadata": {},
   "outputs": [],
   "source": []
  },
  {
   "cell_type": "code",
   "execution_count": null,
   "id": "eb8cbe18-4d98-4156-b9fa-a4ccdc751d52",
   "metadata": {},
   "outputs": [],
   "source": []
  },
  {
   "cell_type": "code",
   "execution_count": null,
   "id": "58f95405-c285-46ee-a5e4-d57308f8c16d",
   "metadata": {},
   "outputs": [],
   "source": []
  }
 ],
 "metadata": {
  "kernelspec": {
   "display_name": "Python 3 (ipykernel)",
   "language": "python",
   "name": "python3"
  },
  "language_info": {
   "codemirror_mode": {
    "name": "ipython",
    "version": 3
   },
   "file_extension": ".py",
   "mimetype": "text/x-python",
   "name": "python",
   "nbconvert_exporter": "python",
   "pygments_lexer": "ipython3",
   "version": "3.11.7"
  }
 },
 "nbformat": 4,
 "nbformat_minor": 5
}
